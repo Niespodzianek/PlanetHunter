{
  "nbformat": 4,
  "nbformat_minor": 0,
  "metadata": {
    "colab": {
      "provenance": [],
      "toc_visible": true,
      "mount_file_id": "1uyXhQh4207yp1Zd6DM9pL9-r_JnVwCc4",
      "authorship_tag": "ABX9TyPM3NFWW0WYPHxHePl8w54E",
      "include_colab_link": true
    },
    "kernelspec": {
      "name": "python3",
      "display_name": "Python 3"
    },
    "language_info": {
      "name": "python"
    }
  },
  "cells": [
    {
      "cell_type": "markdown",
      "metadata": {
        "id": "view-in-github",
        "colab_type": "text"
      },
      "source": [
        "<a href=\"https://colab.research.google.com/github/Niespodzianek/PlanetHunter/blob/main/Exoplanets.ipynb\" target=\"_parent\"><img src=\"https://colab.research.google.com/assets/colab-badge.svg\" alt=\"Open In Colab\"/></a>"
      ]
    },
    {
      "cell_type": "markdown",
      "source": [
        "### ***Config***"
      ],
      "metadata": {
        "id": "GCtJbUdXhDez"
      }
    },
    {
      "cell_type": "code",
      "source": [
        "!pip install lightkurve\n",
        "%matplotlib inline\n",
        "import lightkurve as lk\n",
        "import matplotlib.pyplot as plt"
      ],
      "metadata": {
        "id": "2nxX9FvaLmfI"
      },
      "execution_count": null,
      "outputs": []
    },
    {
      "cell_type": "code",
      "source": [
        "TIC = \"TIC 142148228\""
      ],
      "metadata": {
        "id": "5_WLj14wLwWg"
      },
      "execution_count": null,
      "outputs": []
    },
    {
      "cell_type": "code",
      "source": [
        "data = lk.search_lightcurve(TIC)"
      ],
      "metadata": {
        "id": "IFAsPVsgL2Rz"
      },
      "execution_count": null,
      "outputs": []
    },
    {
      "cell_type": "code",
      "source": [
        "print(data)"
      ],
      "metadata": {
        "id": "oFDlW_8XsDzY"
      },
      "execution_count": null,
      "outputs": []
    },
    {
      "cell_type": "code",
      "source": [
        "data_2 = data[23]\n",
        "print(data_2)"
      ],
      "metadata": {
        "id": "ijdQRzJNqOpl"
      },
      "execution_count": null,
      "outputs": []
    },
    {
      "cell_type": "code",
      "source": [
        "lc = data_2.download()"
      ],
      "metadata": {
        "id": "YleQlohgqRIU"
      },
      "execution_count": null,
      "outputs": []
    },
    {
      "cell_type": "code",
      "source": [
        "lc_normalized = lc.normalize()\n",
        "\n",
        "lc_normalized.plot(linewidth=0, marker=\".\", color=\"blue\", label=\"normalized\")\n",
        "lc.plot(linewidth=0, marker=\"o\", color=\"red\", label=\"unnormalized\")"
      ],
      "metadata": {
        "id": "497WRlesbmy-"
      },
      "execution_count": null,
      "outputs": []
    },
    {
      "cell_type": "markdown",
      "source": [
        "Plik lc to tablica danych"
      ],
      "metadata": {
        "id": "vPPeLj_Ze1d4"
      }
    },
    {
      "cell_type": "code",
      "source": [
        "print(lc)"
      ],
      "metadata": {
        "id": "b-MsDAxue9NS"
      },
      "execution_count": null,
      "outputs": []
    },
    {
      "cell_type": "code",
      "source": [
        "print(lc.columns)"
      ],
      "metadata": {
        "colab": {
          "base_uri": "https://localhost:8080/"
        },
        "id": "rcJ_mMKQe_9N",
        "outputId": "b7b67bde-5d3d-441f-a3fa-949057e4dd08"
      },
      "execution_count": null,
      "outputs": [
        {
          "output_type": "stream",
          "name": "stdout",
          "text": [
            "<TableColumns names=('time','flux','flux_err','timecorr','cadenceno','centroid_col','centroid_row','sap_flux','sap_flux_err','sap_bkg','sap_bkg_err','pdcsap_flux','pdcsap_flux_err','quality','psf_centr1','psf_centr1_err','psf_centr2','psf_centr2_err','mom_centr1','mom_centr1_err','mom_centr2','mom_centr2_err','pos_corr1','pos_corr2')>\n"
          ]
        }
      ]
    },
    {
      "cell_type": "code",
      "source": [
        "mask = (1440 < lc_normalized.time.value) & (lc_normalized.time.value < 1443)\n",
        "plt.plot(lc_normalized.time.value[mask], lc_normalized.flux.value[mask])"
      ],
      "metadata": {
        "id": "tbwr3uVxaqd2"
      },
      "execution_count": null,
      "outputs": []
    },
    {
      "cell_type": "markdown",
      "source": [
        "### ***Faulse positives in backgroud flux***"
      ],
      "metadata": {
        "id": "5w8VFeIOPvY2"
      }
    },
    {
      "cell_type": "code",
      "source": [
        "data_flux = lk.search_targetpixelfile(TIC, author=\"SPOC\", sector=5)\n",
        "tpf = data_flux.download()\n",
        "tpf.plot(aperture_mask=\"pipeline\")\n",
        "tpf.plot()"
      ],
      "metadata": {
        "id": "UfegYVuLPKqg"
      },
      "execution_count": null,
      "outputs": []
    },
    {
      "cell_type": "code",
      "source": [
        "print(lc.columns)"
      ],
      "metadata": {
        "colab": {
          "base_uri": "https://localhost:8080/"
        },
        "id": "wfc5oDKxRrM3",
        "outputId": "133d4ee7-52d4-46cf-af26-927124ab1260"
      },
      "execution_count": null,
      "outputs": [
        {
          "output_type": "stream",
          "name": "stdout",
          "text": [
            "<TableColumns names=('time','flux','flux_err','timecorr','cadenceno','centroid_col','centroid_row','sap_flux','sap_flux_err','sap_bkg','sap_bkg_err','pdcsap_flux','pdcsap_flux_err','quality','psf_centr1','psf_centr1_err','psf_centr2','psf_centr2_err','mom_centr1','mom_centr1_err','mom_centr2','mom_centr2_err','pos_corr1','pos_corr2')>\n"
          ]
        }
      ]
    },
    {
      "cell_type": "code",
      "source": [
        "# wykres blasku tła\n",
        "fig, ax = plt.subplots(figsize=(8, 3))\n",
        "plt.plot(lc.time.value, lc.sap_bkg.value, color=\"blue\", linewidth=0, marker=\".\", ms=1)\n",
        "plt.ylabel(\"Backgroud flux\")\n",
        "plt.xlabel(\"Time (TJD)\")\n",
        "plt.tight_layout()\n",
        "plt.show()"
      ],
      "metadata": {
        "id": "Jfswwv6NUaE3"
      },
      "execution_count": null,
      "outputs": []
    },
    {
      "cell_type": "code",
      "source": [
        "# czas tranzytu\n",
        "transit_time =1441\n",
        "# filtr czasowy\n",
        "transit_mask = (lc.time.value > transit_time - 2) & (lc.time.value < transit_time + 2)\n",
        "\n",
        "# wykres tła\n",
        "fig, ax = plt.subplots(figsize=(8, 3))\n",
        "plt.plot(lc.time.value[transit_mask], lc.sap_bkg.value[transit_mask], color=\"blue\", linewidth=0, marker=\".\", ms=1)\n",
        "plt.ylabel(\"Backgroud flux\")\n",
        "plt.xlabel(\"Time (TJD)\")\n",
        "plt.tight_layout()\n",
        "# zaznaczenie mometu tranzytu\n",
        "plt.axvline(transit_time)\n",
        "\n",
        "plt.show()\n",
        "\n",
        "# porównianie z krzywą światła\n",
        "fig, ax = plt.subplots(figsize=(9, 3))\n",
        "plt.plot(lc.time.value[transit_mask], lc.flux.value[transit_mask])\n",
        "plt.show()"
      ],
      "metadata": {
        "id": "hNeZYF3GWoRc"
      },
      "execution_count": null,
      "outputs": []
    },
    {
      "cell_type": "markdown",
      "source": [
        "### ***Centroid motion***"
      ],
      "metadata": {
        "id": "Ov_0osXxh2OZ"
      }
    },
    {
      "cell_type": "code",
      "source": [
        "# print(lc.columns)\n",
        "fig, ax = plt.subplots(2, 1, figsize=(10, 5))\n",
        "ax[0].plot(lc.time.value, lc.centroid_row.value, color = \"blue\")\n",
        "ax[1].plot(lc.time.value, lc.centroid_col.value, color = \"blue\")\n",
        "plt.tight_layout()\n",
        "plt.show()"
      ],
      "metadata": {
        "id": "6xdfx4dHh6co"
      },
      "execution_count": null,
      "outputs": []
    },
    {
      "cell_type": "markdown",
      "source": [
        "Porównać wykres ze binowanym epizod 17 od połowy"
      ],
      "metadata": {
        "id": "d0L3K-uqkrrb"
      }
    }
  ]
}